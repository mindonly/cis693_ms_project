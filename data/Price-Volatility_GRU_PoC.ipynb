{
 "cells": [
  {
   "cell_type": "markdown",
   "metadata": {},
   "source": [
    "### 6.28 Inspecting the Price/Volatility data"
   ]
  },
  {
   "cell_type": "code",
   "execution_count": 1,
   "metadata": {},
   "outputs": [
    {
     "name": "stdout",
     "output_type": "stream",
     "text": [
      "['\"DateTime\"', '\"Price\"', '\"Volatility\"']\n",
      "9096\n"
     ]
    }
   ],
   "source": [
    "import os\n",
    "\n",
    "# data_dir = '/Users/sanch/Dropbox/f2018/CIS693/cis693_ms_project/data'\n",
    "data_dir = '/home/sanchrob/repos/cis693_ms_project/data'\n",
    "# fname = os.path.join(data_dir, 'PJM_rt_during.csv')\n",
    "# fname = os.path.join(data_dir, 'PJM_rt_bomo.csv')\n",
    "fname = os.path.join(data_dir, 'PJM_rt_before.csv')\n",
    "\n",
    "f = open(fname)\n",
    "data = f.read()\n",
    "f.close()\n",
    "\n",
    "#lines = data.split('\\n')\n",
    "# splitlines() discards last empty line (universal newlines)\n",
    "raw_lines = data.splitlines()\n",
    "header = raw_lines[0].split(',')\n",
    "lines = raw_lines[1:]\n",
    "\n",
    "print(header)\n",
    "print(len(lines))"
   ]
  },
  {
   "cell_type": "markdown",
   "metadata": {},
   "source": [
    "### 6.29 Parsing the data"
   ]
  },
  {
   "cell_type": "code",
   "execution_count": 2,
   "metadata": {},
   "outputs": [],
   "source": [
    "import numpy as np\n",
    "\n",
    "float_data = np.zeros((len(lines), len(header) - 1))\n",
    "\n",
    "for i, line in enumerate(lines):\n",
    "    values = [float(x) for x in line.split(',')[1:]]\n",
    "    float_data[i, :] = values\n",
    "    #print(i, line, values)"
   ]
  },
  {
   "cell_type": "markdown",
   "metadata": {},
   "source": [
    "### 6.30 Plotting the price & volatility timeseries"
   ]
  },
  {
   "cell_type": "markdown",
   "metadata": {},
   "source": [
    "#### scale plots larger"
   ]
  },
  {
   "cell_type": "code",
   "execution_count": 3,
   "metadata": {},
   "outputs": [],
   "source": [
    "def scale_plot_size(factor=1.10):\n",
    "    import matplotlib as mpl\n",
    "    default_dpi = mpl.rcParamsDefault['figure.dpi']\n",
    "    mpl.rcParams['figure.dpi'] = default_dpi*factor\n",
    "    \n",
    "scale_plot_size()"
   ]
  },
  {
   "cell_type": "code",
   "execution_count": 4,
   "metadata": {},
   "outputs": [
    {
     "data": {
      "text/plain": [
       "[<matplotlib.lines.Line2D at 0x7fe34f4cf2e8>]"
      ]
     },
     "execution_count": 4,
     "metadata": {},
     "output_type": "execute_result"
    }
   ],
   "source": [
    "from matplotlib import pyplot as plt\n",
    "\n",
    "price = float_data[:, 0]\n",
    "volatility = float_data[:, 1]\n",
    "\n",
    "# blue\n",
    "plt.plot(range(len(price)), price)\n",
    "# orange\n",
    "plt.plot(range(len(volatility)), volatility)"
   ]
  },
  {
   "cell_type": "markdown",
   "metadata": {},
   "source": [
    "### 6.31 Plotting a narrower window of Price/Volatility"
   ]
  },
  {
   "cell_type": "code",
   "execution_count": 5,
   "metadata": {},
   "outputs": [
    {
     "data": {
      "text/plain": [
       "[<matplotlib.lines.Line2D at 0x7fe34cf11e10>]"
      ]
     },
     "execution_count": 5,
     "metadata": {},
     "output_type": "execute_result"
    },
    {
     "data": {
      "image/png": "[encoded data removed]",
      "text/plain": [
       "<Figure size 432x288 with 1 Axes>"
      ]
     },
     "metadata": {
      "needs_background": "light"
     },
     "output_type": "display_data"
    }
   ],
   "source": [
    "# hourly timesteps, 48 = two days\n",
    "plt.plot(range(200), price[300:500])\n",
    "plt.plot(range(200), volatility[300:500])"
   ]
  },
  {
   "cell_type": "code",
   "execution_count": 6,
   "metadata": {},
   "outputs": [
    {
     "data": {
      "text/plain": [
       "'\"2002-08-14 13:00:00\",336.519297,27.5691221021853'"
      ]
     },
     "execution_count": 6,
     "metadata": {},
     "output_type": "execute_result"
    }
   ],
   "source": [
    "raw_lines[325]"
   ]
  },
  {
   "cell_type": "markdown",
   "metadata": {},
   "source": [
    "### 6.32 Normalization"
   ]
  },
  {
   "cell_type": "code",
   "execution_count": 7,
   "metadata": {},
   "outputs": [],
   "source": [
    "# normalize only the training data?\n",
    "# 120 obs: 50% train, 25% val, 25% test\n",
    "mean = float_data[:60].mean(axis=0)\n",
    "float_data -= mean\n",
    "std = float_data[:60].std(axis=0)\n",
    "float_data /= std"
   ]
  },
  {
   "cell_type": "code",
   "execution_count": 8,
   "metadata": {},
   "outputs": [
    {
     "data": {
      "text/plain": [
       "(9096, 2)"
      ]
     },
     "execution_count": 8,
     "metadata": {},
     "output_type": "execute_result"
    }
   ],
   "source": [
    "# get shape of the matrix\n",
    "float_data.shape"
   ]
  },
  {
   "cell_type": "markdown",
   "metadata": {},
   "source": [
    "### 6.33 Generator for yielding timeseries samples and targets"
   ]
  },
  {
   "cell_type": "code",
   "execution_count": 9,
   "metadata": {},
   "outputs": [],
   "source": [
    "# lookback = 24; observations will go back 1 day\n",
    "# steps = 1; observations will be sampled hourly\n",
    "# delay = 12; targets wil be 12 hours in the future\n",
    "\n",
    "def generator(data, lookback, delay, min_index, max_index,\n",
    "              shuffle=False, batch_size=6, step=1):\n",
    "    \n",
    "    # only applies to test_gen\n",
    "    if max_index is None:\n",
    "        max_index = len(data) - delay - 1\n",
    "    \n",
    "    i = min_index + lookback\n",
    "#     print(\"init, i: \", i)\n",
    "      \n",
    "    while 1:\n",
    "        if shuffle:\n",
    "            rows = np.random.randint(\n",
    "                min_index + lookback, max_index, size=batch_size)\n",
    "        else:\n",
    "            if i + batch_size >= max_index:\n",
    "                i = min_index + lookback\n",
    "                        \n",
    "            rows = np.arange(i, min(i + batch_size, max_index))\n",
    "#             print(rows, len(rows))\n",
    "#             print(\"i: \", i)\n",
    "            i += len(rows)\n",
    "#             print(\"increment i: \", i)\n",
    "                \n",
    "        samples = np.zeros((len(rows),\n",
    "                            lookback // step,\n",
    "                            data.shape[-1]))\n",
    "        targets = np.zeros((len(rows),))\n",
    "        \n",
    "        for j, row in enumerate(rows):\n",
    "            indices = range(rows[j] - lookback, rows[j], step)\n",
    "            samples[j] = data[indices]\n",
    "            targets[j] = data[rows[j] + delay][1]  # field [1] is volatility, our response variable\n",
    "        \n",
    "        yield samples, targets"
   ]
  },
  {
   "cell_type": "markdown",
   "metadata": {},
   "source": [
    "* data—The original array of floating-point data, which you normalized in listing 6.32.\n",
    "* lookback—How many timesteps back the input data should go.\n",
    "* delay—How many timesteps in the future the target should be.\n",
    "* min_index and max_index—Indices in the data array that delimit which timesteps to draw from. This is useful for keeping a segment of the data for validation and another for testing.\n",
    "* shuffle—Whether to shuffle the samples or draw them in chronological order.\n",
    "* batch_size—The number of samples per batch.\n",
    "* step—The period, in timesteps, at which you sample data. You’ll set it to 6 in order to draw one data point every hour."
   ]
  },
  {
   "cell_type": "markdown",
   "metadata": {},
   "source": [
    "### 6.34 Prepare train, validation, test generators"
   ]
  },
  {
   "cell_type": "code",
   "execution_count": 10,
   "metadata": {},
   "outputs": [
    {
     "name": "stdout",
     "output_type": "stream",
     "text": [
      "  tr_max_idx:  6366\n",
      " val_min_idx:  6367\n",
      " val_max_idx:  7730\n",
      "test_min_idx:  7731\n"
     ]
    }
   ],
   "source": [
    "batch_size = 12 # number of samples (of size lookback) per batch\n",
    "lookback = 48   # sample size (history)\n",
    "delay = 12      # target (predict n + delay steps from now)\n",
    "step = 1        # sample frequency (1 = hourly)\n",
    "\n",
    "\n",
    "# 70%\n",
    "tr_max_idx = int((len(float_data) * 0.7) // 1) - 1\n",
    "print(\"  tr_max_idx: \", tr_max_idx)\n",
    "train_gen = generator(float_data,\n",
    "                      lookback=lookback, \n",
    "                      delay=delay, \n",
    "                      min_index=0, \n",
    "                      max_index=tr_max_idx,\n",
    "                      step=step, \n",
    "                      batch_size=batch_size)\n",
    "\n",
    "# 15%\n",
    "val_min_idx = tr_max_idx + 1\n",
    "val_max_idx = val_min_idx + int((len(float_data) * 0.15) // 1) - 1\n",
    "print(\" val_min_idx: \", val_min_idx)\n",
    "print(\" val_max_idx: \", val_max_idx)\n",
    "val_gen = generator(float_data, \n",
    "                    lookback=lookback, \n",
    "                    delay=delay, \n",
    "                    min_index=val_min_idx, \n",
    "                    max_index=val_max_idx, \n",
    "                    step=step, \n",
    "                    batch_size=batch_size)\n",
    "\n",
    "# 15%\n",
    "test_min_idx = val_max_idx + 1\n",
    "print(\"test_min_idx: \", test_min_idx)\n",
    "test_gen = generator(float_data, \n",
    "                     lookback=lookback, \n",
    "                     delay=delay, \n",
    "                     min_index=test_min_idx, \n",
    "                     max_index=None, \n",
    "                     step=step, \n",
    "                     batch_size=batch_size)\n",
    "\n",
    "val_steps = (val_max_idx - val_min_idx - lookback)\n",
    "test_steps = (len(float_data) - test_min_idx - lookback)"
   ]
  },
  {
   "cell_type": "code",
   "execution_count": 11,
   "metadata": {},
   "outputs": [],
   "source": [
    "# next(train_gen)"
   ]
  },
  {
   "cell_type": "markdown",
   "metadata": {},
   "source": [
    "### 6.35 Computing common-sense baseline MAE (mean absolute error)"
   ]
  },
  {
   "cell_type": "code",
   "execution_count": 12,
   "metadata": {},
   "outputs": [],
   "source": [
    "def evaluate_naive_method():\n",
    "    batch_maes = []\n",
    "    for step in range(val_steps):\n",
    "#     for step in range(test_steps):\n",
    "        samples, targets = next(val_gen)\n",
    "#         samples, targets = next(test_gen)\n",
    "        preds = samples[:, -1, 1]\n",
    "        mae = np.mean(np.abs(preds - targets))\n",
    "        batch_maes.append(mae)\n",
    "    print(np.mean(batch_maes))\n",
    "    \n",
    "    return np.mean(batch_maes)"
   ]
  },
  {
   "cell_type": "code",
   "execution_count": 13,
   "metadata": {},
   "outputs": [
    {
     "name": "stdout",
     "output_type": "stream",
     "text": [
      "0.1932101534677027\n"
     ]
    }
   ],
   "source": [
    "naive_mae = evaluate_naive_method()"
   ]
  },
  {
   "cell_type": "markdown",
   "metadata": {},
   "source": [
    "### 6.36 Convert MAE back to Volatility error"
   ]
  },
  {
   "cell_type": "code",
   "execution_count": 14,
   "metadata": {},
   "outputs": [
    {
     "name": "stdout",
     "output_type": "stream",
     "text": [
      "4.608249977527294\n"
     ]
    }
   ],
   "source": [
    "# multiply result of naive method above (~1.5) x SD(volatility)\n",
    "volatility_mae = naive_mae * std[1]\n",
    "print(volatility_mae)"
   ]
  },
  {
   "cell_type": "code",
   "execution_count": 15,
   "metadata": {},
   "outputs": [
    {
     "data": {
      "text/plain": [
       "9096"
      ]
     },
     "execution_count": 15,
     "metadata": {},
     "output_type": "execute_result"
    }
   ],
   "source": [
    "float_data.shape[0]"
   ]
  },
  {
   "cell_type": "markdown",
   "metadata": {},
   "source": [
    "### 6.3.9 Train and evaluate a GRU base-model"
   ]
  },
  {
   "cell_type": "code",
   "execution_count": null,
   "metadata": {},
   "outputs": [
    {
     "name": "stderr",
     "output_type": "stream",
     "text": [
      "Using TensorFlow backend.\n"
     ]
    },
    {
     "name": "stdout",
     "output_type": "stream",
     "text": [
      "Epoch 1/6\n",
      "3000/3000 [==============================] - 122s 41ms/step - loss: 0.1787 - val_loss: 0.1574\n",
      "Epoch 2/6\n",
      "3000/3000 [==============================] - 122s 41ms/step - loss: 0.1740 - val_loss: 0.1508\n",
      "Epoch 3/6\n",
      "3000/3000 [==============================] - 123s 41ms/step - loss: 0.1741 - val_loss: 0.1415\n",
      "Epoch 4/6\n",
      "3000/3000 [==============================] - 124s 41ms/step - loss: 0.1654 - val_loss: 0.2151\n",
      "Epoch 5/6\n",
      "2345/3000 [======================>.......] - ETA: 24s - loss: 0.1660"
     ]
    }
   ],
   "source": [
    "from keras.models import Sequential\n",
    "from keras import layers\n",
    "from keras.optimizers import RMSprop\n",
    "\n",
    "model = Sequential()\n",
    "model.add(layers.GRU(64, input_shape=(None, float_data.shape[-1])))\n",
    "model.add(layers.Dense(1))\n",
    "\n",
    "model.compile(optimizer=RMSprop(), loss='mae')\n",
    "# n - k + 1\n",
    "history = model.fit_generator(train_gen,\n",
    "                              steps_per_epoch=3000,\n",
    "                              epochs=6,\n",
    "                              validation_data=val_gen,\n",
    "                              validation_steps=val_steps)"
   ]
  },
  {
   "cell_type": "markdown",
   "metadata": {},
   "source": [
    "### 6.38 Plot results"
   ]
  },
  {
   "cell_type": "code",
   "execution_count": null,
   "metadata": {},
   "outputs": [],
   "source": [
    "import matplotlib.pyplot as plt\n",
    "\n",
    "loss = history.history['loss']\n",
    "val_loss = history.history['val_loss']\n",
    "\n",
    "epochs = range(1, len(loss) + 1)\n",
    "\n",
    "plt.figure()\n",
    "\n",
    "plt.plot(epochs, loss, 'bo', label='Training loss')\n",
    "plt.plot(epochs, val_loss, 'b', label='Validation loss')\n",
    "plt.title('Training and validation loss (MAE)')\n",
    "plt.legend()\n",
    "\n",
    "plt.show()"
   ]
  },
  {
   "cell_type": "code",
   "execution_count": null,
   "metadata": {},
   "outputs": [],
   "source": [
    "print(naive_mae)"
   ]
  }
 ],
 "metadata": {
  "kernelspec": {
   "display_name": "Python 3",
   "language": "python",
   "name": "python3"
  },
  "language_info": {
   "codemirror_mode": {
    "name": "ipython",
    "version": 3
   },
   "file_extension": ".py",
   "mimetype": "text/x-python",
   "name": "python",
   "nbconvert_exporter": "python",
   "pygments_lexer": "ipython3",
   "version": "3.6.5"
  }
 },
 "nbformat": 4,
 "nbformat_minor": 2
}
